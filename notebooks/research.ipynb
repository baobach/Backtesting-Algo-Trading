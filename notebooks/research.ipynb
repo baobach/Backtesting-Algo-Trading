{
 "cells": [
  {
   "cell_type": "code",
   "execution_count": 13,
   "metadata": {},
   "outputs": [
    {
     "ename": "ModuleNotFoundError",
     "evalue": "No module named 'src'",
     "output_type": "error",
     "traceback": [
      "\u001b[0;31m---------------------------------------------------------------------------\u001b[0m",
      "\u001b[0;31mModuleNotFoundError\u001b[0m                       Traceback (most recent call last)",
      "Cell \u001b[0;32mIn[13], line 5\u001b[0m\n\u001b[1;32m      3\u001b[0m \u001b[38;5;28;01mimport\u001b[39;00m \u001b[38;5;21;01mnumpy\u001b[39;00m \u001b[38;5;28;01mas\u001b[39;00m \u001b[38;5;21;01mnp\u001b[39;00m\n\u001b[1;32m      4\u001b[0m \u001b[38;5;28;01mfrom\u001b[39;00m \u001b[38;5;21;01mopenbb\u001b[39;00m \u001b[38;5;28;01mimport\u001b[39;00m obb\n\u001b[0;32m----> 5\u001b[0m \u001b[38;5;28;01mfrom\u001b[39;00m \u001b[38;5;21;01msrc\u001b[39;00m\u001b[38;5;21;01m.\u001b[39;00m\u001b[38;5;21;01mconfig\u001b[39;00m\u001b[38;5;21;01m.\u001b[39;00m\u001b[38;5;21;01msettings\u001b[39;00m \u001b[38;5;28;01mimport\u001b[39;00m pat_token\n",
      "\u001b[0;31mModuleNotFoundError\u001b[0m: No module named 'src'"
     ]
    }
   ],
   "source": [
    "import sys\n",
    "sys.path.append('/Users/baobach/Backtesting-Algo-Trading')\n"
   ]
  },
  {
   "cell_type": "code",
   "execution_count": 15,
   "metadata": {},
   "outputs": [],
   "source": [
    "pat = settings.pat_token\n",
    "obb.account.login(pat=pat)\n",
    "start_date = '2020-01-01'\n",
    "end_date = '2023-01-01'"
   ]
  },
  {
   "cell_type": "code",
   "execution_count": 30,
   "metadata": {},
   "outputs": [],
   "source": [
    "# Load equities list\n",
    "pairs = obb.index.constituents(\"dowjones\").to_df()['symbol']"
   ]
  },
  {
   "cell_type": "code",
   "execution_count": 32,
   "metadata": {},
   "outputs": [
    {
     "name": "stdout",
     "output_type": "stream",
     "text": [
      "              AMGN     CRM     HON      GS    WBA    AAPL     NKE       V  \\\n",
      "date                                                                        \n",
      "2020-01-02  240.10  166.99  180.79  234.32  59.08   75.09  102.20  191.12   \n",
      "2020-01-03  238.47  166.17  178.86  231.58  59.08   74.36  101.92  189.60   \n",
      "2020-01-06  240.30  173.45  177.51  233.95  59.59   74.95  101.83  189.19   \n",
      "2020-01-07  238.04  176.00  177.61  235.49  59.29   74.60  101.78  188.69   \n",
      "2020-01-08  238.22  177.33  177.76  237.76  55.83   75.80  101.55  191.92   \n",
      "...            ...     ...     ...     ...    ...     ...     ...     ...   \n",
      "2022-12-23  263.92  129.44  213.87  345.51  38.63  131.86  116.25  205.83   \n",
      "2022-12-27  263.39  130.66  214.89  341.97  38.31  130.03  117.56  206.29   \n",
      "2022-12-28  261.42  128.47  212.19  340.87  37.58  126.04  114.98  204.99   \n",
      "2022-12-29  263.16  132.54  214.75  343.43  37.47  129.61  117.35  208.06   \n",
      "2022-12-30  262.64  132.59  214.30  343.38  37.36  129.93  117.01  207.76   \n",
      "\n",
      "               UNH   CSCO  ...    DOW     JPM      BA     KO     MCD     AXP  \\\n",
      "date                       ...                                                 \n",
      "2020-01-02  292.50  48.42  ...  53.75  141.09  333.32  54.99  200.79  125.85   \n",
      "2020-01-03  289.54  47.63  ...  52.42  138.34  332.76  54.69  200.08  124.60   \n",
      "2020-01-06  291.55  47.80  ...  52.21  138.23  333.74  54.67  202.33  124.06   \n",
      "2020-01-07  289.79  47.49  ...  52.19  135.88  337.28  54.25  202.63  123.41   \n",
      "2020-01-08  295.90  47.52  ...  52.73  136.94  331.37  54.35  205.91  125.54   \n",
      "...            ...    ...  ...    ...     ...     ...    ...     ...     ...   \n",
      "2022-12-23  531.31  47.48  ...  50.86  131.28  189.06  63.82  267.57  147.02   \n",
      "2022-12-27  531.99  47.53  ...  51.19  131.74  189.40  64.21  266.84  146.39   \n",
      "2022-12-28  528.45  47.07  ...  49.99  132.46  188.38  63.57  265.11  144.01   \n",
      "2022-12-29  529.88  47.50  ...  50.65  133.22  188.91  63.95  265.93  147.32   \n",
      "2022-12-30  530.18  47.64  ...  50.39  134.10  190.49  63.61  263.53  147.75   \n",
      "\n",
      "               IBM     MRK     MMM      PG  \n",
      "date                                        \n",
      "2020-01-02  129.46   87.82  180.00  123.41  \n",
      "2020-01-03  128.43   87.07  178.45  122.58  \n",
      "2020-01-06  128.20   87.44  178.62  122.75  \n",
      "2020-01-07  128.29   85.11  177.90  121.99  \n",
      "2020-01-08  129.36   84.54  180.63  122.51  \n",
      "...            ...     ...     ...     ...  \n",
      "2022-12-23  141.65  111.86  120.14  152.62  \n",
      "2022-12-27  142.42  112.12  120.22  153.95  \n",
      "2022-12-28  140.02  111.08  118.29  151.96  \n",
      "2022-12-29  141.06  110.82  120.57  152.59  \n",
      "2022-12-30  140.89  110.95  119.92  151.56  \n",
      "\n",
      "[756 rows x 30 columns]\n"
     ]
    }
   ],
   "source": [
    "# Initialize an empty dictionary to store price data for each ticker\n",
    "price_data = {}\n",
    "\n",
    "# Loop through each ticker symbol in the pairs list\n",
    "for symbol in pairs:\n",
    "    # Fetch historical price data for the current symbol\n",
    "    historical_data = obb.equity.price.historical(symbol, interval='1d', start_date=start_date, end_date=end_date).to_df()\n",
    "    \n",
    "    # Store the data in the price_data dictionary with the symbol as the key\n",
    "    price_data[symbol] = historical_data\n",
    "\n",
    "# Create a DataFrame from the price_data dictionary\n",
    "price_df = pd.DataFrame({symbol: data['close'] for symbol, data in price_data.items()})\n",
    "\n",
    "# Display the DataFrame\n",
    "print(price_df)\n"
   ]
  },
  {
   "cell_type": "code",
   "execution_count": null,
   "metadata": {},
   "outputs": [],
   "source": []
  }
 ],
 "metadata": {
  "kernelspec": {
   "display_name": "algorun",
   "language": "python",
   "name": "python3"
  },
  "language_info": {
   "codemirror_mode": {
    "name": "ipython",
    "version": 3
   },
   "file_extension": ".py",
   "mimetype": "text/x-python",
   "name": "python",
   "nbconvert_exporter": "python",
   "pygments_lexer": "ipython3",
   "version": "3.10.13"
  }
 },
 "nbformat": 4,
 "nbformat_minor": 2
}
