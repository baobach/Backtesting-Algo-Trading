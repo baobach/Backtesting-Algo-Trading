{
 "cells": [
  {
   "cell_type": "markdown",
   "metadata": {},
   "source": [
    "# Pair trading"
   ]
  },
  {
   "cell_type": "markdown",
   "metadata": {},
   "source": [
    "The framework is straightforward:\n",
    "\n",
    "- Step 1: Find cointergrated pairs\n",
    "- Step 2: Backtesting each pair and find the best strategy\n",
    "- Step 3: Evaluate and optimize the strategy"
   ]
  },
  {
   "cell_type": "code",
   "execution_count": 1,
   "metadata": {},
   "outputs": [],
   "source": [
    "# Add the parent directory to the path so that we can import the module\n",
    "import sys\n",
    "sys.path.append(\"../\")"
   ]
  },
  {
   "cell_type": "code",
   "execution_count": 2,
   "metadata": {},
   "outputs": [],
   "source": [
    "# Main imports\n",
    "from datetime import datetime\n",
    "import pandas as pd\n",
    "import numpy as np\n",
    "from openbb import obb\n",
    "from src.config import get_api_key\n",
    "from src.utils import DataWrangler, TimeSeriesAnalysis\n",
    "from src.analyzer import AnalyzerSuite\n",
    "from src.data_manager import DataManager"
   ]
  },
  {
   "cell_type": "code",
   "execution_count": 3,
   "metadata": {},
   "outputs": [],
   "source": [
    "# Initialize the API\n",
    "pat = get_api_key()\n",
    "obb.account.login(pat=pat)\n",
    "dw = DataWrangler()\n",
    "start_date = '2020-01-01'\n",
    "end_date = '2023-01-01'"
   ]
  },
  {
   "cell_type": "code",
   "execution_count": 12,
   "metadata": {},
   "outputs": [
    {
     "data": {
      "text/html": [
       "<div>\n",
       "<style scoped>\n",
       "    .dataframe tbody tr th:only-of-type {\n",
       "        vertical-align: middle;\n",
       "    }\n",
       "\n",
       "    .dataframe tbody tr th {\n",
       "        vertical-align: top;\n",
       "    }\n",
       "\n",
       "    .dataframe thead th {\n",
       "        text-align: right;\n",
       "    }\n",
       "</style>\n",
       "<table border=\"1\" class=\"dataframe\">\n",
       "  <thead>\n",
       "    <tr style=\"text-align: right;\">\n",
       "      <th></th>\n",
       "      <th>open</th>\n",
       "      <th>high</th>\n",
       "      <th>low</th>\n",
       "      <th>close</th>\n",
       "    </tr>\n",
       "    <tr>\n",
       "      <th>date</th>\n",
       "      <th></th>\n",
       "      <th></th>\n",
       "      <th></th>\n",
       "      <th></th>\n",
       "    </tr>\n",
       "  </thead>\n",
       "  <tbody>\n",
       "    <tr>\n",
       "      <th>2023-12-22</th>\n",
       "      <td>49.84</td>\n",
       "      <td>50.39</td>\n",
       "      <td>49.84</td>\n",
       "      <td>50.09</td>\n",
       "    </tr>\n",
       "    <tr>\n",
       "      <th>2023-12-26</th>\n",
       "      <td>50.11</td>\n",
       "      <td>50.40</td>\n",
       "      <td>50.05</td>\n",
       "      <td>50.28</td>\n",
       "    </tr>\n",
       "    <tr>\n",
       "      <th>2023-12-27</th>\n",
       "      <td>50.30</td>\n",
       "      <td>50.56</td>\n",
       "      <td>50.28</td>\n",
       "      <td>50.44</td>\n",
       "    </tr>\n",
       "    <tr>\n",
       "      <th>2023-12-28</th>\n",
       "      <td>50.58</td>\n",
       "      <td>50.63</td>\n",
       "      <td>50.42</td>\n",
       "      <td>50.48</td>\n",
       "    </tr>\n",
       "    <tr>\n",
       "      <th>2023-12-29</th>\n",
       "      <td>50.45</td>\n",
       "      <td>50.59</td>\n",
       "      <td>50.22</td>\n",
       "      <td>50.52</td>\n",
       "    </tr>\n",
       "  </tbody>\n",
       "</table>\n",
       "</div>"
      ],
      "text/plain": [
       "             open   high    low  close\n",
       "date                                  \n",
       "2023-12-22  49.84  50.39  49.84  50.09\n",
       "2023-12-26  50.11  50.40  50.05  50.28\n",
       "2023-12-27  50.30  50.56  50.28  50.44\n",
       "2023-12-28  50.58  50.63  50.42  50.48\n",
       "2023-12-29  50.45  50.59  50.22  50.52"
      ]
     },
     "execution_count": 12,
     "metadata": {},
     "output_type": "execute_result"
    }
   ],
   "source": [
    "# Load equities list\n",
    "tickers = DataManager().get_available_tickers()\n",
    "# Test the loading data function\n",
    "test_df = DataManager().load_ticker_data(tickers[0])\n",
    "test_df.tail()"
   ]
  },
  {
   "cell_type": "code",
   "execution_count": 5,
   "metadata": {},
   "outputs": [],
   "source": [
    "# Test cointegration function\n",
    "apple_df = DataManager().load_ticker_data('AAPL')\n",
    "msft_df = DataManager().load_ticker_data('MSFT')\n",
    "tsa = TimeSeriesAnalysis()\n",
    "tsa.adf_test(apple_df['adj_close'], msft_df['adj_close'])"
   ]
  },
  {
   "cell_type": "code",
   "execution_count": null,
   "metadata": {},
   "outputs": [],
   "source": [
    "# Identify cointegrated pairs\n",
    "pairs = []\n",
    "# Loop through tickers list\n",
    "for i in range(len(tickers)-1):\n",
    "    for j in range(i+1, len(tickers)):\n",
    "        # Load ticker data\n",
    "        ticker1_df = DataManager().load_ticker_data(tickers[i])\n",
    "        ticker2_df = DataManager().load_ticker_data(tickers[j])\n",
    "        \n",
    "        # Perform ADF test\n",
    "        test = tsa.adf_test(ticker1_df['adj_close'], ticker2_df['adj_close'])\n",
    "        # If cointegrated, add to pairs list\n",
    "        if test:\n",
    "            pairs.append((tickers[i], tickers[j]))"
   ]
  },
  {
   "cell_type": "code",
   "execution_count": 11,
   "metadata": {},
   "outputs": [
    {
     "data": {
      "text/plain": [
       "[('CSCO', 'BA'),\n",
       " ('CSCO', 'WBA'),\n",
       " ('CSCO', 'MSFT'),\n",
       " ('CSCO', 'HD'),\n",
       " ('BA', 'V'),\n",
       " ('BA', 'WBA'),\n",
       " ('BA', 'PG'),\n",
       " ('BA', 'CAT'),\n",
       " ('BA', 'MCD'),\n",
       " ('BA', 'MMM'),\n",
       " ('BA', 'MSFT'),\n",
       " ('BA', 'HD'),\n",
       " ('BA', 'AXP'),\n",
       " ('BA', 'NKE'),\n",
       " ('BA', 'IBM'),\n",
       " ('BA', 'GS'),\n",
       " ('BA', 'DIS'),\n",
       " ('BA', 'JPM'),\n",
       " ('BA', 'VZ'),\n",
       " ('BA', 'HON'),\n",
       " ('BA', 'AAPL'),\n",
       " ('BA', 'WMT'),\n",
       " ('BA', 'DOW'),\n",
       " ('BA', 'JNJ'),\n",
       " ('BA', 'CRM'),\n",
       " ('V', 'WBA'),\n",
       " ('V', 'WMT'),\n",
       " ('WBA', 'MSFT'),\n",
       " ('WBA', 'HD'),\n",
       " ('MCD', 'IBM'),\n",
       " ('MMM', 'CRM'),\n",
       " ('KO', 'IBM'),\n",
       " ('MSFT', 'HD'),\n",
       " ('MSFT', 'AXP'),\n",
       " ('MSFT', 'JPM'),\n",
       " ('AXP', 'AAPL'),\n",
       " ('IBM', 'AMGN'),\n",
       " ('IBM', 'JNJ')]"
      ]
     },
     "execution_count": 11,
     "metadata": {},
     "output_type": "execute_result"
    }
   ],
   "source": [
    "pairs"
   ]
  },
  {
   "cell_type": "code",
   "execution_count": null,
   "metadata": {},
   "outputs": [],
   "source": []
  }
 ],
 "metadata": {
  "kernelspec": {
   "display_name": "algorun",
   "language": "python",
   "name": "python3"
  },
  "language_info": {
   "codemirror_mode": {
    "name": "ipython",
    "version": 3
   },
   "file_extension": ".py",
   "mimetype": "text/x-python",
   "name": "python",
   "nbconvert_exporter": "python",
   "pygments_lexer": "ipython3",
   "version": "3.10.13"
  }
 },
 "nbformat": 4,
 "nbformat_minor": 2
}
